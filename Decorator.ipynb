{
  "nbformat": 4,
  "nbformat_minor": 0,
  "metadata": {
    "colab": {
      "provenance": [],
      "authorship_tag": "ABX9TyOmb7/jHLTP/cm/mvLIaWT/"
    },
    "kernelspec": {
      "name": "python3",
      "display_name": "Python 3"
    },
    "language_info": {
      "name": "python"
    }
  },
  "cells": [
    {
      "cell_type": "code",
      "execution_count": null,
      "metadata": {
        "colab": {
          "base_uri": "https://localhost:8080/"
        },
        "id": "kKZe4QcMa2HY",
        "outputId": "4404cc2a-d4ee-4ee2-e7c6-4c12062e2f7f"
      },
      "outputs": [
        {
          "output_type": "stream",
          "name": "stdout",
          "text": [
            "Mounted at /content/drive\n"
          ]
        }
      ],
      "source": [
        "from google.colab import drive\n",
        "drive.mount('/content/drive')"
      ]
    },
    {
      "cell_type": "code",
      "source": [
        "import time"
      ],
      "metadata": {
        "id": "ZTMw3JxnbTF4"
      },
      "execution_count": null,
      "outputs": []
    },
    {
      "cell_type": "code",
      "source": [
        "def get_square(num):\n",
        "  start = time.time()\n",
        "  result = []\n",
        "  for n in num:\n",
        "    result.append(n*n)\n",
        "  end = time.time()\n",
        "  print(f\"get_square took {(end-start)*1000} mili seconds\")\n",
        "  return result"
      ],
      "metadata": {
        "id": "uPXxnTGablxX"
      },
      "execution_count": null,
      "outputs": []
    },
    {
      "cell_type": "code",
      "source": [
        "def get_cube(num):\n",
        "  start = time.time()\n",
        "  result = []\n",
        "  for n in num:\n",
        "    result.append(n*n*n)\n",
        "  end = time.time()\n",
        "  print(f\"get_cube took {(end-start)*1000} mili seconds\")\n",
        "  return result"
      ],
      "metadata": {
        "id": "VeZEWDqRbx8I"
      },
      "execution_count": null,
      "outputs": []
    },
    {
      "cell_type": "code",
      "source": [
        "def timer(func):\n",
        "  def wrapper(*args, **kwargs):\n",
        "    start_time = time.time()\n",
        "    result = func(*args, **kwargs)\n",
        "    end_time = time.time()\n",
        "    print(f\"Function {func.__name__} took {(end_time - start_time)*1000} miliseconds\")\n",
        "    return result\n",
        "  return wrapper"
      ],
      "metadata": {
        "id": "NMhTWfbibG5c"
      },
      "execution_count": null,
      "outputs": []
    },
    {
      "cell_type": "code",
      "source": [
        "@timer\n",
        "def get_square(num):\n",
        "  result = []\n",
        "  for n in num:\n",
        "    result.append(n*n)\n",
        "  return result"
      ],
      "metadata": {
        "id": "NL62DWMfc5tC"
      },
      "execution_count": null,
      "outputs": []
    },
    {
      "cell_type": "code",
      "source": [
        "_ = get_square(range(100000))"
      ],
      "metadata": {
        "colab": {
          "base_uri": "https://localhost:8080/"
        },
        "id": "dE0i9oZ1dUnx",
        "outputId": "79ae315e-0979-46bc-8ff7-aeeedc8a29dc"
      },
      "execution_count": null,
      "outputs": [
        {
          "output_type": "stream",
          "name": "stdout",
          "text": [
            "Function get_square took 14.174222946166992 seconds\n"
          ]
        }
      ]
    },
    {
      "cell_type": "code",
      "source": [
        "@timer\n",
        "def get_cube(num):\n",
        "  result = []\n",
        "  for n in num:\n",
        "    result.append(n*n*n)\n",
        "  return result"
      ],
      "metadata": {
        "id": "V-Rs7-WedjXy"
      },
      "execution_count": null,
      "outputs": []
    },
    {
      "cell_type": "code",
      "source": [
        "_ = get_cube(range(100000))"
      ],
      "metadata": {
        "colab": {
          "base_uri": "https://localhost:8080/"
        },
        "id": "WZ3c7axGdxjA",
        "outputId": "cc0aa64a-8a1e-4d4f-f215-44fd64b9b2af"
      },
      "execution_count": null,
      "outputs": [
        {
          "output_type": "stream",
          "name": "stdout",
          "text": [
            "Function get_cube took  0.0150 seconds\n"
          ]
        }
      ]
    }
  ]
}